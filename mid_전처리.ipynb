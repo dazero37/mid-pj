{
  "nbformat": 4,
  "nbformat_minor": 0,
  "metadata": {
    "colab": {
      "provenance": [],
      "authorship_tag": "ABX9TyOIHfvR0hLgY04/t79+NfK5",
      "include_colab_link": true
    },
    "kernelspec": {
      "name": "python3",
      "display_name": "Python 3"
    },
    "language_info": {
      "name": "python"
    }
  },
  "cells": [
    {
      "cell_type": "markdown",
      "metadata": {
        "id": "view-in-github",
        "colab_type": "text"
      },
      "source": [
        "<a href=\"https://colab.research.google.com/github/dazero37/mid-pj/blob/main/mid_%EC%A0%84%EC%B2%98%EB%A6%AC.ipynb\" target=\"_parent\"><img src=\"https://colab.research.google.com/assets/colab-badge.svg\" alt=\"Open In Colab\"/></a>"
      ]
    },
    {
      "cell_type": "code",
      "execution_count": 4,
      "metadata": {
        "colab": {
          "base_uri": "https://localhost:8080/",
          "height": 35
        },
        "id": "usMMn4kce6dW",
        "outputId": "203d0e42-e931-428e-e917-52a34bd41a23"
      },
      "outputs": [
        {
          "output_type": "execute_result",
          "data": {
            "text/plain": [
              "'/content/WHR_2021_with_year.csv'"
            ],
            "application/vnd.google.colaboratory.intrinsic+json": {
              "type": "string"
            }
          },
          "metadata": {},
          "execution_count": 4
        }
      ],
      "source": [
        "# year column 추가하기\n",
        "\n",
        "import pandas as pd\n",
        "\n",
        "# CSV 파일 불러오기\n",
        "file_path = \"/content/WHR_2021.csv\"\n",
        "df = pd.read_csv(file_path)\n",
        "\n",
        "# year 컬럼을 첫 번째(0번째) 위치에 추가 (모든 행에 2021 값 할당)\n",
        "df.insert(0, \"year\", 2021)\n",
        "\n",
        "# 변경된 데이터 확인\n",
        "df.head()\n",
        "\n",
        "# 새로운 CSV 파일로 저장\n",
        "output_path = \"/content/WHR_2021_with_year.csv\"\n",
        "df.to_csv(output_path, index=False)\n",
        "\n",
        "# 저장된 파일 경로 출력\n",
        "output_path\n",
        "\n"
      ]
    }
  ]
}